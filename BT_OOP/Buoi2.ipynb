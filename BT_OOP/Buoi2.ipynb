{
 "cells": [
  {
   "cell_type": "code",
   "execution_count": null,
   "source": [
    "[{ \"account_number\":\"12345\", \"account_name\":\"Hạnh\", \"balance\":100000},\r\n",
    "    { \"account_number\":\"12346\", \"account_name\":\"Hằng\", \"balance\":200000},\r\n",
    "    { \"account_number\":\"12347\", \"account_name\":\"Oanh\", \"balance\":300000}\r\n",
    "    ]"
   ],
   "outputs": [],
   "metadata": {}
  }
 ],
 "metadata": {
  "orig_nbformat": 4,
  "language_info": {
   "name": "python"
  }
 },
 "nbformat": 4,
 "nbformat_minor": 2
}