{
 "cells": [
  {
   "cell_type": "code",
   "execution_count": null,
   "metadata": {},
   "outputs": [],
   "source": [
    "[{ \"account_number\":\"12345\", \"account_name\":\"Hạnh\", \"balance\":100000},\n",
    "    { \"account_number\":\"12346\", \"account_name\":\"Hằng\", \"balance\":200000},\n",
    "    { \"account_number\":\"12347\", \"account_name\":\"Oanh\", \"balance\":300000}\n",
    "    ]"
   ]
  }
 ],
 "metadata": {
  "interpreter": {
   "hash": "04635d289a519a1410467dd0afb0db42f9184808881ca68b2eb5a687a20a5a94"
  },
  "kernelspec": {
   "display_name": "Python 3.7.8 64-bit",
   "name": "python3"
  },
  "language_info": {
   "name": "python",
   "version": "3.7.8"
  },
  "orig_nbformat": 4
 },
 "nbformat": 4,
 "nbformat_minor": 2
}
