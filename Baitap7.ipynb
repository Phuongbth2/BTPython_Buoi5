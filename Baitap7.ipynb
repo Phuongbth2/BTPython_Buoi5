{
 "cells": [
  {
   "cell_type": "code",
   "execution_count": 3,
   "source": [
    "#Xử lý chuỗi - Đảo ngược từ và kiểu hoa thường\r\n",
    "#Cho 1 chuỗi A (vd: \"tHE fOX iS cOMING fOR tHE cHICKEN\").\r\n",
    "# Viết hàm đảo ngược thứ tự các từ trong chuỗi và đổi tất cả các chữ cái từ hoa thành thường và ngược lại.\r\n",
    "#(kết quả là \"Chicken The For Coming Is Fox The\")\r\n",
    "\r\n",
    "def convert_str(s):\r\n",
    "    s1=s.split(\" \")\r\n",
    "    s2=list(reversed(s1))\r\n",
    "    s3=' '.join(s2)\r\n",
    "    s3_new=''\r\n",
    "    for i in s3:\r\n",
    "        if i.isupper():\r\n",
    "            s3_new +=i.lower()\r\n",
    "        else: s3_new +=i.upper()\r\n",
    "    return s3_new\r\n",
    "\r\n",
    "convert_str(\"tHE fOX iS cOMING fOR tHE cHICKEN\")"
   ],
   "outputs": [
    {
     "output_type": "execute_result",
     "data": {
      "text/plain": [
       "'Chicken The For Coming Is Fox The'"
      ]
     },
     "metadata": {},
     "execution_count": 3
    }
   ],
   "metadata": {}
  },
  {
   "cell_type": "code",
   "execution_count": 5,
   "source": [
    "#Sorting - Sắp xếp điểm thi\r\n",
    "#Điểm thi học kỳ của sinh viên được lưu ở định dạng 1 tuple có 3 phần tử (m1, m2, e) gồm:\r\n",
    "#m1 = midterm1\r\n",
    "#m2 = midterm2\r\n",
    "#e = endterm\r\n",
    "#Cho một list gồm danh sách điểm thi của sinh viên 1 lớp.\r\n",
    "# Viết chương trình Python để sắp xếp danh sách trước theo thứ tự tăng dần theo phần tử cuối cùng trong mỗi tuple (sắp xếp theo điểm cuối kỳ - endterm tăng dần).\r\n",
    "#vd sort_list_last([(1, 2, 5), (9, 1, 2), (6, 4, 4), (3, 2, 3), (10, 2, 1)]) == [(10, 2, 1), (9, 1, 2), (3, 2, 3), (6, 4, 4), (1, 2, 5)]\r\n",
    "\r\n",
    "def sort_list_last(list_point):\r\n",
    "    list_sorted = sorted (list_point, key=lambda sort:sort[-1])\r\n",
    "    return list_sorted\r\n",
    "Point = [(1, 2, 5), (9, 1, 2), (6, 4, 4), (3, 2, 3), (10, 2, 1)]\r\n",
    "print(\"Điểm thi sắp xếp theo thứ tự tăng dần theo phần tử cuối cùng trong mỗi tuple: \", sort_list_last(Point))"
   ],
   "outputs": [
    {
     "output_type": "stream",
     "name": "stdout",
     "text": [
      "Điểm thi sắp xếp theo thứ tự tăng dần theo phần tử cuối cùng trong mỗi tuple:  [(10, 2, 1), (9, 1, 2), (3, 2, 3), (6, 4, 4), (1, 2, 5)]\n"
     ]
    }
   ],
   "metadata": {}
  },
  {
   "cell_type": "code",
   "execution_count": 8,
   "source": [
    "#Bài tập OOP buổi 1\r\n",
    "#Thay đổi các thuộc tính account_number, account_name, balance trong class BankAccount thành thuộc tính ẩn, và triển khai thêm các phương thức:\r\n",
    "#get_account_number()\r\n",
    "#get_account_name()\r\n",
    "#get_balance()\r\n",
    "#set_balance() - balance phải lớn hơn hoặc bằng 0\r\n",
    "#Thay đổi các phương thức display(), withdraw() và deposit() sử dụng các phương thức getter và setter trên.\r\n",
    "#Chú ý:Với withdraw(), amount phải lớn hơn 0 và nhỏ hơn balance\r\n",
    "# Với deposit(), amount phải lớn hơn 0\r\n",
    "# Nếu giá trị không phù hợp thì thông báo ra console\r\n",
    "\r\n",
    "class BankAccount:\r\n",
    "    def __init__(self, account_number, account_name, balance):\r\n",
    "        self._account_number = account_number\r\n",
    "        self._account_name = account_name\r\n",
    "        self.set_balance(balance)\r\n",
    "\r\n",
    "    @property\r\n",
    "    def account_number(self):\r\n",
    "        return self._account_number\r\n",
    "\r\n",
    "    @property\r\n",
    "    def account_name(self):\r\n",
    "        return self._account_name\r\n",
    "\r\n",
    "    @property\r\n",
    "    def balance(self):\r\n",
    "        return self._balance\r\n",
    "\r\n",
    "    def set_balance(self, new_balance):\r\n",
    "        if new_balance >0:\r\n",
    "            self._balance = new_balance\r\n",
    "        else:\r\n",
    "            print(\"Tài khoản đang bị âm\")     \r\n",
    "\r\n",
    "    def display(self):\r\n",
    "        print(f\"Thông tin tài khoản: {self.account_number}, {self.account_name}, {self.balance}\")\r\n",
    "\r\n",
    "    def withdraw(self, amount):\r\n",
    "        if 0 < amount < self.balance:\r\n",
    "            self._balance -= amount\r\n",
    "        else:\r\n",
    "            print(\"Số dư không đủ\")\r\n",
    "\r\n",
    "    def deposit(self, amount):\r\n",
    "        if amount > 0:\r\n",
    "            self._balance += amount\r\n",
    "        else:\r\n",
    "            print(\"Không hợp lệ\")\r\n",
    "    \r\n",
    "\r\n",
    "bank_account = BankAccount(\"TCB\", \"Phuongbth2\", 1000000) \r\n",
    "bank_account.display() \r\n",
    "\r\n",
    "bank_account.withdraw(5000)\r\n",
    "bank_account.display() \r\n",
    "\r\n",
    "bank_account.deposit(6000)\r\n",
    "bank_account.display() \r\n",
    "\r\n",
    "bank_account.withdraw(1200000)"
   ],
   "outputs": [
    {
     "output_type": "stream",
     "name": "stdout",
     "text": [
      "Thông tin tài khoản: TCB, Phuongbth2, 1000000\n",
      "Thông tin tài khoản: TCB, Phuongbth2, 995000\n",
      "Thông tin tài khoản: TCB, Phuongbth2, 1001000\n",
      "Số dư không đủ\n"
     ]
    }
   ],
   "metadata": {}
  },
  {
   "cell_type": "code",
   "execution_count": 4,
   "source": [
    "class BankAccount:\r\n",
    "    def __init__(self,account_number,owner, balance):\r\n",
    "        self._account_number = account_number\r\n",
    "        self._owner = owner\r\n",
    "        self.set_balance(balance)\r\n",
    "\r\n",
    "    @property\r\n",
    "    def account_number(self):\r\n",
    "        return self._account_number\r\n",
    "\r\n",
    "    @property\r\n",
    "    def account_name(self):\r\n",
    "        return self._account_name\r\n",
    "\r\n",
    "    @property\r\n",
    "    def balance(self):\r\n",
    "        return self._balance\r\n",
    "\r\n",
    "    def set_balance(self, new_balance):\r\n",
    "        if new_balance >0:\r\n",
    "            self._balance = new_balance\r\n",
    "        else:\r\n",
    "            print(\"Tài khoản đang bị âm\")     \r\n",
    "\r\n",
    "    def withdraw(self, amount):\r\n",
    "        if 0 < amount < self.balance:\r\n",
    "            self._balance -= amount\r\n",
    "        else:\r\n",
    "            print(\"Số dư không đủ\")\r\n",
    "\r\n",
    "    def deposit(self, amount):\r\n",
    "        if amount > 0:\r\n",
    "            self._balance += amount\r\n",
    "        else:\r\n",
    "            print(\"Không hợp lệ\")\r\n",
    " \r\n",
    "    def display(self):\r\n",
    "         print(\r\n",
    "            f\"Thông tin KH: {self._owner.get_info()}\\nSố tài khoản {self.account_number}\\nSố dư: {self.balance}\")\r\n",
    "\r\n",
    " \r\n",
    "class SavingAccount(BankAccount):\r\n",
    "    monthly_interest_rate = 0.005\r\n",
    "   \r\n",
    "    def calculate_interest(self):\r\n",
    "        return self.monthly_interest_rate*self.balance\r\n",
    "\r\n",
    "class Customer:\r\n",
    "    def __init__(self, name, date_of_birth, email, phone):\r\n",
    "        self.name = name\r\n",
    "        self.date_of_birth = date_of_birth\r\n",
    "        self.email = email\r\n",
    "        self.phone = phone\r\n",
    "\r\n",
    "    def get_info(self):\r\n",
    "        return f\"{self.name}, {self.date_of_birth}, {self.email}, {self.phone}\"    \r\n",
    "\r\n",
    "Customer_NO1 = Customer(\"Bùi Thị Hồng Phương\",\"14/11/1992\",\"hongphuong.hvnh@gmail.com\",\"0988122222\")\r\n",
    "bank_account = SavingAccount(\"123456789001\", Customer_NO1,100000000) \r\n",
    "bank_account.display() \r\n",
    "print(f\"Lãi mỗi tháng KH nhận được: {bank_account.calculate_interest()}\")   \r\n",
    "\r\n",
    "print(\"-\"*100)\r\n",
    "Customer_NO2 = Customer(\"Nguyễn Khắc Tuệ Minh\",\"14/11/1992\",\"phuongbth2@gmail.com\",\"0987777666\")\r\n",
    "bank_account = SavingAccount(\"123456789002\", Customer_NO2,500000000) \r\n",
    "bank_account.display() \r\n",
    "print(f\"Lãi mỗi tháng KH nhận được: {bank_account.calculate_interest()}\")   \r\n"
   ],
   "outputs": [
    {
     "output_type": "stream",
     "name": "stdout",
     "text": [
      "Thông tin KH: Bùi Thị Hồng Phương, 14/11/1992, hongphuong.hvnh@gmail.com, 0988122222\n",
      "Số tài khoản 123456789001\n",
      "Số dư: 100000000\n",
      "Lãi mỗi tháng KH nhận được: 500000.0\n",
      "----------------------------------------------------------------------------------------------------\n",
      "Thông tin KH: Nguyễn Khắc Tuệ Minh, 14/11/1992, phuongbth2@gmail.com, 0987777666\n",
      "Số tài khoản 123456789002\n",
      "Số dư: 100000000\n",
      "Lãi mỗi tháng KH nhận được: 500000.0\n"
     ]
    }
   ],
   "metadata": {}
  }
 ],
 "metadata": {
  "interpreter": {
   "hash": "04635d289a519a1410467dd0afb0db42f9184808881ca68b2eb5a687a20a5a94"
  },
  "kernelspec": {
   "name": "python3",
   "display_name": "Python 3.7.8 64-bit"
  },
  "language_info": {
   "codemirror_mode": {
    "name": "ipython",
    "version": 3
   },
   "file_extension": ".py",
   "mimetype": "text/x-python",
   "name": "python",
   "nbconvert_exporter": "python",
   "pygments_lexer": "ipython3",
   "version": "3.7.8"
  },
  "orig_nbformat": 4
 },
 "nbformat": 4,
 "nbformat_minor": 2
}