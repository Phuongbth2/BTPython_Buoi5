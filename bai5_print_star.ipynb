{
 "cells": [
  {
   "cell_type": "code",
   "execution_count": 1,
   "source": [
    "#Bài 5: Print Star\r\n",
    "#Hãy viết chương trình in ra các hình sau (dùng ký tự '*' và ký tự space) với n là số dòng. Vd: n = 4:\r\n",
    "\r\n",
    "print(\"Bài 5 - Hình 1 - Print Star\")\r\n",
    "n=int(input(\"Mời bạn nhập số dòng muốn vẽ: \"))\r\n",
    "print(\"Tôi muốn vẽ \",n,\" dòng\")\r\n",
    "i=1\r\n",
    "while i<=n:\r\n",
    "    star=i*' *'\r\n",
    "    space=(n-i)*\"  \"\r\n",
    "    print(space,star)\r\n",
    "    i=i+1\r\n",
    "print (\"\")\r\n",
    "print (\"\")"
   ],
   "outputs": [
    {
     "output_type": "stream",
     "name": "stdout",
     "text": [
      "Bài 5 - Hình 1 - Print Star\n"
     ]
    }
   ],
   "metadata": {}
  }
 ],
 "metadata": {
  "orig_nbformat": 4,
  "language_info": {
   "name": "python",
   "version": "3.7.8",
   "mimetype": "text/x-python",
   "codemirror_mode": {
    "name": "ipython",
    "version": 3
   },
   "pygments_lexer": "ipython3",
   "nbconvert_exporter": "python",
   "file_extension": ".py"
  },
  "kernelspec": {
   "name": "python3",
   "display_name": "Python 3.7.8 64-bit"
  },
  "interpreter": {
   "hash": "04635d289a519a1410467dd0afb0db42f9184808881ca68b2eb5a687a20a5a94"
  }
 },
 "nbformat": 4,
 "nbformat_minor": 2
}