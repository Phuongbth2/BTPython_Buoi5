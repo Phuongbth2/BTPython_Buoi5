{
 "cells": [
  {
   "cell_type": "code",
   "execution_count": 1,
   "source": [
    "#Bài 5: Print Star\r\n",
    "#Hãy viết chương trình in ra các hình sau (dùng ký tự '*' và ký tự space) với n là số dòng. Vd: n = 4:\r\n",
    "\r\n",
    "print(\"Bài 5 - Hình 1 - Print Star\")\r\n",
    "n=int(input(\"Mời bạn nhập số dòng muốn vẽ: \"))\r\n",
    "print(\"Tôi muốn vẽ \",n,\" dòng\")\r\n",
    "i=1\r\n",
    "while i<=n:\r\n",
    "    star=i*' *'\r\n",
    "    space=(n-i)*\"  \"\r\n",
    "    print(space,star)\r\n",
    "    i=i+1\r\n",
    "print (\"\")\r\n",
    "print (\"\")\r\n",
    "\r\n",
    "\r\n",
    "print(\"Bài 5 - Hình 2 - Print star\")\r\n",
    "n=int(input(\"Mời bạn nhập số dòng muốn vẽ: \"))\r\n",
    "print(\"Tôi muốn vẽ \",n,\" dòng\")\r\n",
    "i=1\r\n",
    "while i<n:\r\n",
    "    star=i*' *'\r\n",
    "    space=(n-1-i)*\"  \"\r\n",
    "    print(space,star)\r\n",
    "    i=i+1\r\n",
    "print((n*2)*'* ')\r\n",
    "j=n*2-1\r\n",
    "while 0<j<2*n:\r\n",
    "    star_2=(j-n)*'* '\r\n",
    "    space_2=(2*n-1-j)*\"  \"\r\n",
    "    print((n-1)*\"  \",star_2,space_2)\r\n",
    "    j=j-1\r\n",
    "\r\n"
   ],
   "outputs": [
    {
     "output_type": "stream",
     "name": "stdout",
     "text": [
      "Bài 5 - Hình 1 - Print Star\n"
     ]
    },
    {
     "output_type": "error",
     "ename": "ValueError",
     "evalue": "invalid literal for int() with base 10: ''",
     "traceback": [
      "\u001b[1;31m---------------------------------------------------------------------------\u001b[0m",
      "\u001b[1;31mValueError\u001b[0m                                Traceback (most recent call last)",
      "\u001b[1;32mC:\\Users\\PHUONG~1\\AppData\\Local\\Temp/ipykernel_4004/1469824475.py\u001b[0m in \u001b[0;36m<module>\u001b[1;34m\u001b[0m\n\u001b[0;32m      3\u001b[0m \u001b[1;33m\u001b[0m\u001b[0m\n\u001b[0;32m      4\u001b[0m \u001b[0mprint\u001b[0m\u001b[1;33m(\u001b[0m\u001b[1;34m\"Bài 5 - Hình 1 - Print Star\"\u001b[0m\u001b[1;33m)\u001b[0m\u001b[1;33m\u001b[0m\u001b[1;33m\u001b[0m\u001b[0m\n\u001b[1;32m----> 5\u001b[1;33m \u001b[0mn\u001b[0m\u001b[1;33m=\u001b[0m\u001b[0mint\u001b[0m\u001b[1;33m(\u001b[0m\u001b[0minput\u001b[0m\u001b[1;33m(\u001b[0m\u001b[1;34m\"Mời bạn nhập số dòng muốn vẽ: \"\u001b[0m\u001b[1;33m)\u001b[0m\u001b[1;33m)\u001b[0m\u001b[1;33m\u001b[0m\u001b[1;33m\u001b[0m\u001b[0m\n\u001b[0m\u001b[0;32m      6\u001b[0m \u001b[0mprint\u001b[0m\u001b[1;33m(\u001b[0m\u001b[1;34m\"Tôi muốn vẽ \"\u001b[0m\u001b[1;33m,\u001b[0m\u001b[0mn\u001b[0m\u001b[1;33m,\u001b[0m\u001b[1;34m\" dòng\"\u001b[0m\u001b[1;33m)\u001b[0m\u001b[1;33m\u001b[0m\u001b[1;33m\u001b[0m\u001b[0m\n\u001b[0;32m      7\u001b[0m \u001b[0mi\u001b[0m\u001b[1;33m=\u001b[0m\u001b[1;36m1\u001b[0m\u001b[1;33m\u001b[0m\u001b[1;33m\u001b[0m\u001b[0m\n",
      "\u001b[1;31mValueError\u001b[0m: invalid literal for int() with base 10: ''"
     ]
    }
   ],
   "metadata": {}
  }
 ],
 "metadata": {
  "orig_nbformat": 4,
  "language_info": {
   "name": "python",
   "version": "3.7.8",
   "mimetype": "text/x-python",
   "codemirror_mode": {
    "name": "ipython",
    "version": 3
   },
   "pygments_lexer": "ipython3",
   "nbconvert_exporter": "python",
   "file_extension": ".py"
  },
  "kernelspec": {
   "name": "python3",
   "display_name": "Python 3.7.8 64-bit"
  },
  "interpreter": {
   "hash": "04635d289a519a1410467dd0afb0db42f9184808881ca68b2eb5a687a20a5a94"
  }
 },
 "nbformat": 4,
 "nbformat_minor": 2
}